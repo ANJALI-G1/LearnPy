{
 "cells": [
  {
   "cell_type": "markdown",
   "id": "4a3fd060-75c4-44c3-a6b9-97bf8896e204",
   "metadata": {},
   "source": [
    "# Iteration \n",
    "## iteration is a general term for taking one item after another in a sequence\n"
   ]
  },
  {
   "cell_type": "code",
   "execution_count": 1,
   "id": "22fd945f-08f8-4d33-beb1-5fd6d7e2940d",
   "metadata": {},
   "outputs": [
    {
     "name": "stdout",
     "output_type": "stream",
     "text": [
      "1 2 4 5 "
     ]
    }
   ],
   "source": [
    "#example\n",
    "l=[1,2,4,5]\n",
    "for i in l:\n",
    "    print(i,end=\" \")"
   ]
  },
  {
   "cell_type": "code",
   "execution_count": 2,
   "id": "d6cc03cc-d8b5-4276-849a-c05f66b50731",
   "metadata": {},
   "outputs": [
    {
     "name": "stdout",
     "output_type": "stream",
     "text": [
      "1\n",
      "2\n",
      "4\n",
      "5\n"
     ]
    }
   ],
   "source": [
    "i=0\n",
    "while i<len(l):\n",
    "    print(l[i])\n",
    "    i+=1\n",
    "    "
   ]
  },
  {
   "cell_type": "markdown",
   "id": "dca539ae-ff26-4e70-83bc-f65e5a9a1fd3",
   "metadata": {},
   "source": [
    "# Iterator\n",
    "### it is an object that allow the programmer to traverse through a sequence of data without having to store the data in the memory"
   ]
  },
  {
   "cell_type": "code",
   "execution_count": 3,
   "id": "aef621d2-555b-49a3-aca6-ed76ed2ba4e0",
   "metadata": {},
   "outputs": [
    {
     "data": {
      "text/plain": [
       "8.6484375"
      ]
     },
     "execution_count": 3,
     "metadata": {},
     "output_type": "execute_result"
    }
   ],
   "source": [
    "L=[x for x in range(1,1000)]\n",
    "import sys\n",
    "sys.getsizeof(L)/1024"
   ]
  },
  {
   "cell_type": "code",
   "execution_count": 4,
   "id": "99194aed-4eb6-43e2-9fd8-eaacd8b89088",
   "metadata": {},
   "outputs": [
    {
     "data": {
      "text/plain": [
       "0.046875"
      ]
     },
     "execution_count": 4,
     "metadata": {},
     "output_type": "execute_result"
    }
   ],
   "source": [
    "x=range(1,1000)\n",
    "sys.getsizeof(x)/1024"
   ]
  },
  {
   "cell_type": "markdown",
   "id": "abc7bfc7-6c43-4cd5-a594-44b7f69af56e",
   "metadata": {},
   "source": [
    "# Iterable\n",
    "## iterable is an object on which one can iterate\n",
    "## list,dictionarry,range,tuple ,string are iterable , using for and while loo[ we do iteration, and variable that allow to do so is iterator"
   ]
  },
  {
   "cell_type": "code",
   "execution_count": 5,
   "id": "e83099b7-a74b-4508-8de4-4035895242ab",
   "metadata": {},
   "outputs": [
    {
     "data": {
      "text/plain": [
       "list_iterator"
      ]
     },
     "execution_count": 5,
     "metadata": {},
     "output_type": "execute_result"
    }
   ],
   "source": [
    "L=[1,2,3]\n",
    "type(L) # L is iterable\n",
    "\n",
    "type(iter(L)) # iter(L)"
   ]
  },
  {
   "cell_type": "markdown",
   "id": "a52cacc2-e60c-4e0d-ac8d-5e89037b39fc",
   "metadata": {},
   "source": [
    "every iterable has an iter function\n",
    "every iteratble function has both iter function as well as next function"
   ]
  },
  {
   "cell_type": "code",
   "execution_count": 6,
   "id": "3948b94d-9ed1-4307-8fc7-b28217d96e95",
   "metadata": {},
   "outputs": [
    {
     "data": {
      "text/plain": [
       "['__abs__',\n",
       " '__add__',\n",
       " '__and__',\n",
       " '__bool__',\n",
       " '__ceil__',\n",
       " '__class__',\n",
       " '__delattr__',\n",
       " '__dir__',\n",
       " '__divmod__',\n",
       " '__doc__',\n",
       " '__eq__',\n",
       " '__float__',\n",
       " '__floor__',\n",
       " '__floordiv__',\n",
       " '__format__',\n",
       " '__ge__',\n",
       " '__getattribute__',\n",
       " '__getnewargs__',\n",
       " '__getstate__',\n",
       " '__gt__',\n",
       " '__hash__',\n",
       " '__index__',\n",
       " '__init__',\n",
       " '__init_subclass__',\n",
       " '__int__',\n",
       " '__invert__',\n",
       " '__le__',\n",
       " '__lshift__',\n",
       " '__lt__',\n",
       " '__mod__',\n",
       " '__mul__',\n",
       " '__ne__',\n",
       " '__neg__',\n",
       " '__new__',\n",
       " '__or__',\n",
       " '__pos__',\n",
       " '__pow__',\n",
       " '__radd__',\n",
       " '__rand__',\n",
       " '__rdivmod__',\n",
       " '__reduce__',\n",
       " '__reduce_ex__',\n",
       " '__repr__',\n",
       " '__rfloordiv__',\n",
       " '__rlshift__',\n",
       " '__rmod__',\n",
       " '__rmul__',\n",
       " '__ror__',\n",
       " '__round__',\n",
       " '__rpow__',\n",
       " '__rrshift__',\n",
       " '__rshift__',\n",
       " '__rsub__',\n",
       " '__rtruediv__',\n",
       " '__rxor__',\n",
       " '__setattr__',\n",
       " '__sizeof__',\n",
       " '__str__',\n",
       " '__sub__',\n",
       " '__subclasshook__',\n",
       " '__truediv__',\n",
       " '__trunc__',\n",
       " '__xor__',\n",
       " 'as_integer_ratio',\n",
       " 'bit_count',\n",
       " 'bit_length',\n",
       " 'conjugate',\n",
       " 'denominator',\n",
       " 'from_bytes',\n",
       " 'imag',\n",
       " 'is_integer',\n",
       " 'numerator',\n",
       " 'real',\n",
       " 'to_bytes']"
      ]
     },
     "execution_count": 6,
     "metadata": {},
     "output_type": "execute_result"
    }
   ],
   "source": [
    "\n",
    "a=2\n",
    "dir(a)"
   ]
  },
  {
   "cell_type": "code",
   "execution_count": 7,
   "id": "adb75b4c-53de-47e1-98d9-dcdba99bc521",
   "metadata": {},
   "outputs": [
    {
     "data": {
      "text/plain": [
       "['__add__',\n",
       " '__class__',\n",
       " '__class_getitem__',\n",
       " '__contains__',\n",
       " '__delattr__',\n",
       " '__delitem__',\n",
       " '__dir__',\n",
       " '__doc__',\n",
       " '__eq__',\n",
       " '__format__',\n",
       " '__ge__',\n",
       " '__getattribute__',\n",
       " '__getitem__',\n",
       " '__getstate__',\n",
       " '__gt__',\n",
       " '__hash__',\n",
       " '__iadd__',\n",
       " '__imul__',\n",
       " '__init__',\n",
       " '__init_subclass__',\n",
       " '__iter__',\n",
       " '__le__',\n",
       " '__len__',\n",
       " '__lt__',\n",
       " '__mul__',\n",
       " '__ne__',\n",
       " '__new__',\n",
       " '__reduce__',\n",
       " '__reduce_ex__',\n",
       " '__repr__',\n",
       " '__reversed__',\n",
       " '__rmul__',\n",
       " '__setattr__',\n",
       " '__setitem__',\n",
       " '__sizeof__',\n",
       " '__str__',\n",
       " '__subclasshook__',\n",
       " 'append',\n",
       " 'clear',\n",
       " 'copy',\n",
       " 'count',\n",
       " 'extend',\n",
       " 'index',\n",
       " 'insert',\n",
       " 'pop',\n",
       " 'remove',\n",
       " 'reverse',\n",
       " 'sort']"
      ]
     },
     "execution_count": 7,
     "metadata": {},
     "output_type": "execute_result"
    }
   ],
   "source": [
    "l=[1,2,3]\n",
    "dir(l) #it has .__iter__ that's why it is iterable"
   ]
  },
  {
   "cell_type": "code",
   "execution_count": 8,
   "id": "cea8d4d4-23d2-4887-b350-5f56f1f3924a",
   "metadata": {},
   "outputs": [
    {
     "data": {
      "text/plain": [
       "['__bool__',\n",
       " '__class__',\n",
       " '__contains__',\n",
       " '__delattr__',\n",
       " '__dir__',\n",
       " '__doc__',\n",
       " '__eq__',\n",
       " '__format__',\n",
       " '__ge__',\n",
       " '__getattribute__',\n",
       " '__getitem__',\n",
       " '__getstate__',\n",
       " '__gt__',\n",
       " '__hash__',\n",
       " '__init__',\n",
       " '__init_subclass__',\n",
       " '__iter__',\n",
       " '__le__',\n",
       " '__len__',\n",
       " '__lt__',\n",
       " '__ne__',\n",
       " '__new__',\n",
       " '__reduce__',\n",
       " '__reduce_ex__',\n",
       " '__repr__',\n",
       " '__reversed__',\n",
       " '__setattr__',\n",
       " '__sizeof__',\n",
       " '__str__',\n",
       " '__subclasshook__',\n",
       " 'count',\n",
       " 'index',\n",
       " 'start',\n",
       " 'step',\n",
       " 'stop']"
      ]
     },
     "execution_count": 8,
     "metadata": {},
     "output_type": "execute_result"
    }
   ],
   "source": [
    "#if iter and next both are present then it is iterator\n",
    "#if it has only iter then it is iterable\n",
    "x=range(1,100)\n",
    "dir(x)"
   ]
  },
  {
   "cell_type": "code",
   "execution_count": 9,
   "id": "b4e0ec8a-bd38-48df-8b39-b641954b54fa",
   "metadata": {},
   "outputs": [
    {
     "name": "stdout",
     "output_type": "stream",
     "text": [
      "1\n",
      "2\n",
      "3\n"
     ]
    }
   ],
   "source": [
    "num=[1,2,3]\n",
    "for i in num:\n",
    "    print(i)\n",
    "\n"
   ]
  },
  {
   "cell_type": "code",
   "execution_count": 13,
   "id": "ba9ae0d4-98bf-423d-8734-302cdc48a59f",
   "metadata": {},
   "outputs": [
    {
     "data": {
      "text/plain": [
       "3"
      ]
     },
     "execution_count": 13,
     "metadata": {},
     "output_type": "execute_result"
    }
   ],
   "source": [
    "#fetch the iterator\n",
    "iter_num=iter(num)\n",
    "\n",
    "next(iter_num)\n",
    "next(iter_num)\n",
    "next(iter_num)\n"
   ]
  },
  {
   "cell_type": "code",
   "execution_count": 15,
   "id": "639b2a2e-4a48-4595-9bf8-c852b241acde",
   "metadata": {},
   "outputs": [
    {
     "name": "stdout",
     "output_type": "stream",
     "text": [
      "1\n",
      "2\n",
      "3\n",
      "4\n"
     ]
    }
   ],
   "source": [
    "def loop(iterable):\n",
    "    iter_n=iter(iterable)\n",
    "    while True:\n",
    "        try:\n",
    "            print(next(iter_n))\n",
    "        except:\n",
    "            break\n",
    "loop((1,2,3,4))"
   ]
  },
  {
   "cell_type": "markdown",
   "id": "dc2b66fe-9ab2-4cac-8dbf-8b9d3adfd38d",
   "metadata": {},
   "source": [
    "# creating own range function"
   ]
  },
  {
   "cell_type": "code",
   "execution_count": 19,
   "id": "e9d9a891-b02a-4e6d-bcd8-7bc566ece99d",
   "metadata": {},
   "outputs": [],
   "source": [
    "class range_func:\n",
    "    def __init__(self,start,end):\n",
    "        self.start=start\n",
    "        self.end=end\n",
    "\n",
    "    def __iter__(self):\n",
    "        return range_func_iterator(self)\n",
    "\n",
    "\n",
    "class range_func_iterator:\n",
    "    def __init__(self,iterable_obj):\n",
    "        self.iterable=iterable_obj\n",
    "\n",
    "    def __iter__(self):\n",
    "        return self\n",
    " \n",
    "    def __next__(self):\n",
    "        if self.iterable.start>=self.iterable.end:\n",
    "            raise StopIteration\n",
    "        current=self.iterable.start\n",
    "        self.iterable.start+=1\n",
    "        return current\n",
    "    "
   ]
  },
  {
   "cell_type": "code",
   "execution_count": 20,
   "id": "31acb21a-576e-4dfe-aff2-5f6e1d184d83",
   "metadata": {},
   "outputs": [
    {
     "name": "stdout",
     "output_type": "stream",
     "text": [
      "1\n",
      "2\n",
      "3\n"
     ]
    }
   ],
   "source": [
    "for i in range_func(1,4):\n",
    "    print(i)"
   ]
  },
  {
   "cell_type": "code",
   "execution_count": 21,
   "id": "6979b5b2-9a7d-4f24-a355-27029c94535e",
   "metadata": {},
   "outputs": [
    {
     "data": {
      "text/plain": [
       "range"
      ]
     },
     "execution_count": 21,
     "metadata": {},
     "output_type": "execute_result"
    }
   ],
   "source": [
    "type(range(1,4))"
   ]
  },
  {
   "cell_type": "code",
   "execution_count": null,
   "id": "404aafe5-bfd9-4feb-aab9-0d4f63f1a3f7",
   "metadata": {},
   "outputs": [],
   "source": []
  }
 ],
 "metadata": {
  "kernelspec": {
   "display_name": "Python 3 (ipykernel)",
   "language": "python",
   "name": "python3"
  },
  "language_info": {
   "codemirror_mode": {
    "name": "ipython",
    "version": 3
   },
   "file_extension": ".py",
   "mimetype": "text/x-python",
   "name": "python",
   "nbconvert_exporter": "python",
   "pygments_lexer": "ipython3",
   "version": "3.12.7"
  }
 },
 "nbformat": 4,
 "nbformat_minor": 5
}
