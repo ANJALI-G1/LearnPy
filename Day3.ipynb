{
 "cells": [
  {
   "cell_type": "code",
   "execution_count": 4,
   "id": "894fe073-a733-473b-9509-1358c0436e77",
   "metadata": {},
   "outputs": [],
   "source": [
    "names = [\"Anjali\", \"Ravi\", \"Meera\", \"Kunal\", \"Neha\"]\n",
    "marks = [85, 42, 77, 64, 90]"
   ]
  },
  {
   "cell_type": "code",
   "execution_count": 5,
   "id": "06ea9035-7be9-4926-a577-460f658c7f0b",
   "metadata": {},
   "outputs": [
    {
     "name": "stdout",
     "output_type": "stream",
     "text": [
      "Anjali Ravi Meera Kunal Neha "
     ]
    }
   ],
   "source": [
    "for i in names:\n",
    "    print(i,end=\" \")"
   ]
  },
  {
   "cell_type": "code",
   "execution_count": 6,
   "id": "b2976a51-68cd-4daf-b770-3605edcf98f6",
   "metadata": {},
   "outputs": [
    {
     "data": {
      "text/plain": [
       "[85, 55, 77, 64, 90]"
      ]
     },
     "execution_count": 6,
     "metadata": {},
     "output_type": "execute_result"
    }
   ],
   "source": [
    "marks[1]=55\n",
    "marks"
   ]
  },
  {
   "cell_type": "code",
   "execution_count": 8,
   "id": "c150fd83-7e7c-46b4-982f-2b9571bb6ddc",
   "metadata": {},
   "outputs": [
    {
     "name": "stdout",
     "output_type": "stream",
     "text": [
      "['Anjali', 'Ravi', 'Meera', 'Kunal', 'Neha', 'Amit', 'Amit']\n",
      "[85, 55, 77, 64, 90, '81', '81']\n"
     ]
    }
   ],
   "source": [
    "names.append(\"Amit\")\n",
    "marks.append(\"81\")\n",
    "print(names)\n",
    "print(marks)"
   ]
  },
  {
   "cell_type": "code",
   "execution_count": 9,
   "id": "4b067e93-670d-490a-a2ad-9f9a409ef9c2",
   "metadata": {},
   "outputs": [
    {
     "data": {
      "text/plain": [
       "'Amit'"
      ]
     },
     "execution_count": 9,
     "metadata": {},
     "output_type": "execute_result"
    }
   ],
   "source": [
    "names.pop()"
   ]
  },
  {
   "cell_type": "code",
   "execution_count": 10,
   "id": "6eea83dd-98c3-4a31-b7f7-639c350179cf",
   "metadata": {},
   "outputs": [
    {
     "data": {
      "text/plain": [
       "'81'"
      ]
     },
     "execution_count": 10,
     "metadata": {},
     "output_type": "execute_result"
    }
   ],
   "source": [
    "marks.pop()"
   ]
  },
  {
   "cell_type": "code",
   "execution_count": 11,
   "id": "6dc02e6b-1838-466e-af45-787ad637eacc",
   "metadata": {},
   "outputs": [
    {
     "name": "stdout",
     "output_type": "stream",
     "text": [
      "['Anjali', 'Ravi', 'Meera', 'Kunal', 'Neha', 'Amit']\n",
      "[85, 55, 77, 64, 90, '81']\n"
     ]
    }
   ],
   "source": [
    "print(names)\n",
    "print(marks)"
   ]
  },
  {
   "cell_type": "code",
   "execution_count": 13,
   "id": "5d5506e5-d4c7-48ab-a3e7-c222a49e845e",
   "metadata": {},
   "outputs": [
    {
     "data": {
      "text/plain": [
       "3"
      ]
     },
     "execution_count": 13,
     "metadata": {},
     "output_type": "execute_result"
    }
   ],
   "source": [
    "idx=names.index(\"Kunal\")\n",
    "idx"
   ]
  },
  {
   "cell_type": "code",
   "execution_count": 14,
   "id": "101e0815-f56b-445a-9b78-8a00e4beffe2",
   "metadata": {},
   "outputs": [],
   "source": [
    "names.remove(\"Kunal\")"
   ]
  },
  {
   "cell_type": "code",
   "execution_count": 15,
   "id": "743dab69-e5df-4f8c-9e34-30ac99129be8",
   "metadata": {},
   "outputs": [
    {
     "data": {
      "text/plain": [
       "['Anjali', 'Ravi', 'Meera', 'Neha', 'Amit']"
      ]
     },
     "execution_count": 15,
     "metadata": {},
     "output_type": "execute_result"
    }
   ],
   "source": [
    "names\n"
   ]
  },
  {
   "cell_type": "code",
   "execution_count": 16,
   "id": "9faac9b3-e195-4de5-9340-0d9d15cd53d9",
   "metadata": {},
   "outputs": [],
   "source": [
    "marks.remove(marks[3])"
   ]
  },
  {
   "cell_type": "code",
   "execution_count": 17,
   "id": "ab800fdf-64dd-4704-b700-6e534382d854",
   "metadata": {},
   "outputs": [
    {
     "name": "stdout",
     "output_type": "stream",
     "text": [
      "['Anjali', 'Ravi', 'Meera', 'Neha', 'Amit']\n",
      "[85, 55, 77, 90, '81']\n"
     ]
    }
   ],
   "source": [
    "print(names)\n",
    "print(marks)"
   ]
  },
  {
   "cell_type": "code",
   "execution_count": 18,
   "id": "09d28d00-33a2-4f3a-bf80-4c4f4ec28784",
   "metadata": {},
   "outputs": [
    {
     "name": "stdout",
     "output_type": "stream",
     "text": [
      "['Anjali', 'Ravi', 'Meera']\n",
      "[85, 55, 77]\n"
     ]
    }
   ],
   "source": [
    "print(names[:3:])\n",
    "print(marks[:3:])\n"
   ]
  },
  {
   "cell_type": "code",
   "execution_count": 21,
   "id": "43bef95c-fb2b-4f03-a7da-e0abed66c062",
   "metadata": {},
   "outputs": [
    {
     "data": {
      "text/plain": [
       "['Amit', 'Anjali', 'Meera', 'Neha', 'Ravi']"
      ]
     },
     "execution_count": 21,
     "metadata": {},
     "output_type": "execute_result"
    }
   ],
   "source": [
    "names=sorted(names)\n",
    "names\n"
   ]
  },
  {
   "cell_type": "code",
   "execution_count": 23,
   "id": "fe6cfa54-1d39-42c6-a75f-e3f5665afaf1",
   "metadata": {},
   "outputs": [
    {
     "data": {
      "text/plain": [
       "[85, 55, 77, 90, '81']"
      ]
     },
     "execution_count": 23,
     "metadata": {},
     "output_type": "execute_result"
    }
   ],
   "source": [
    "marks"
   ]
  },
  {
   "cell_type": "code",
   "execution_count": 26,
   "id": "41c8747d-6c1f-4e41-9155-23bd21a81864",
   "metadata": {},
   "outputs": [
    {
     "ename": "NameError",
     "evalue": "name 'sort' is not defined",
     "output_type": "error",
     "traceback": [
      "\u001b[1;31m---------------------------------------------------------------------------\u001b[0m",
      "\u001b[1;31mNameError\u001b[0m                                 Traceback (most recent call last)",
      "Cell \u001b[1;32mIn[26], line 1\u001b[0m\n\u001b[1;32m----> 1\u001b[0m marks\u001b[38;5;241m=\u001b[39m\u001b[43msort\u001b[49m(marks)\n",
      "\u001b[1;31mNameError\u001b[0m: name 'sort' is not defined"
     ]
    }
   ],
   "source": [
    "marks=sort(marks)"
   ]
  },
  {
   "cell_type": "code",
   "execution_count": 28,
   "id": "675efef0-f490-43e1-b6c5-3735a7e428cd",
   "metadata": {},
   "outputs": [
    {
     "ename": "SyntaxError",
     "evalue": "invalid syntax (2372308305.py, line 1)",
     "output_type": "error",
     "traceback": [
      "\u001b[1;36m  Cell \u001b[1;32mIn[28], line 1\u001b[1;36m\u001b[0m\n\u001b[1;33m    l=[ for i in range(0,len(name)) if marks[i]>=50 print(names[i],\"-\",marks[i],\"-\",\"pass\") else print(names[i],\"-\",marks[i],\"-\",\"Fail\") ]\u001b[0m\n\u001b[1;37m        ^\u001b[0m\n\u001b[1;31mSyntaxError\u001b[0m\u001b[1;31m:\u001b[0m invalid syntax\n"
     ]
    }
   ],
   "source": [
    "l=[ for i in range(0,len(name)) if marks[i]>=50 print(names[i],\"-\",marks[i],\"-\",\"pass\") else print(names[i],\"-\",marks[i],\"-\",\"Fail\") ]"
   ]
  },
  {
   "cell_type": "code",
   "execution_count": 29,
   "id": "38d1b74a-4278-406d-b805-93e4128aed39",
   "metadata": {},
   "outputs": [],
   "source": [
    "marks[4]=81\n"
   ]
  },
  {
   "cell_type": "code",
   "execution_count": 30,
   "id": "41f4b071-236c-4847-8f59-259ea7780213",
   "metadata": {},
   "outputs": [
    {
     "data": {
      "text/plain": [
       "[85, 55, 77, 90, 81]"
      ]
     },
     "execution_count": 30,
     "metadata": {},
     "output_type": "execute_result"
    }
   ],
   "source": [
    "marks\n"
   ]
  },
  {
   "cell_type": "code",
   "execution_count": 31,
   "id": "a3060831-5099-4a67-be12-c157dd321ced",
   "metadata": {},
   "outputs": [],
   "source": [
    "results = [\"Pass\" if int(m) >= 50 else \"Fail\" for m in marks]"
   ]
  },
  {
   "cell_type": "code",
   "execution_count": 33,
   "id": "55c94e82-65f6-4583-908c-e2f0227ca90b",
   "metadata": {},
   "outputs": [
    {
     "data": {
      "text/plain": [
       "['Pass', 'Pass', 'Pass', 'Pass', 'Pass']"
      ]
     },
     "execution_count": 33,
     "metadata": {},
     "output_type": "execute_result"
    }
   ],
   "source": [
    "results"
   ]
  },
  {
   "cell_type": "code",
   "execution_count": 45,
   "id": "9912d2d6-b973-48d0-9f8a-4f414c07232b",
   "metadata": {},
   "outputs": [
    {
     "ename": "AttributeError",
     "evalue": "'NoneType' object has no attribute 'sort'",
     "output_type": "error",
     "traceback": [
      "\u001b[1;31m---------------------------------------------------------------------------\u001b[0m",
      "\u001b[1;31mAttributeError\u001b[0m                            Traceback (most recent call last)",
      "Cell \u001b[1;32mIn[45], line 1\u001b[0m\n\u001b[1;32m----> 1\u001b[0m \u001b[43mmarks\u001b[49m\u001b[38;5;241;43m.\u001b[39;49m\u001b[43msort\u001b[49m(reverse\u001b[38;5;241m=\u001b[39m\u001b[38;5;28;01mTrue\u001b[39;00m)  \u001b[38;5;66;03m# ✅ for descending order\u001b[39;00m\n",
      "\u001b[1;31mAttributeError\u001b[0m: 'NoneType' object has no attribute 'sort'"
     ]
    }
   ],
   "source": [
    "marks.sort(reverse=True)  # ✅ for descending order\n"
   ]
  },
  {
   "cell_type": "code",
   "execution_count": 46,
   "id": "b9c8cf68-dddf-4d71-ae90-76ac97ded721",
   "metadata": {},
   "outputs": [
    {
     "ename": "TypeError",
     "evalue": "'NoneType' object is not subscriptable",
     "output_type": "error",
     "traceback": [
      "\u001b[1;31m---------------------------------------------------------------------------\u001b[0m",
      "\u001b[1;31mTypeError\u001b[0m                                 Traceback (most recent call last)",
      "Cell \u001b[1;32mIn[46], line 2\u001b[0m\n\u001b[0;32m      1\u001b[0m \u001b[38;5;28;01mfor\u001b[39;00m i \u001b[38;5;129;01min\u001b[39;00m \u001b[38;5;28mrange\u001b[39m(\u001b[38;5;28mlen\u001b[39m(names)):\n\u001b[1;32m----> 2\u001b[0m     \u001b[38;5;28mprint\u001b[39m(\u001b[38;5;124mf\u001b[39m\u001b[38;5;124m\"\u001b[39m\u001b[38;5;132;01m{\u001b[39;00mnames[i]\u001b[38;5;132;01m}\u001b[39;00m\u001b[38;5;124m - \u001b[39m\u001b[38;5;132;01m{\u001b[39;00m\u001b[43mmarks\u001b[49m\u001b[43m[\u001b[49m\u001b[43mi\u001b[49m\u001b[43m]\u001b[49m\u001b[38;5;132;01m}\u001b[39;00m\u001b[38;5;124m - \u001b[39m\u001b[38;5;132;01m{\u001b[39;00mresults[i]\u001b[38;5;132;01m}\u001b[39;00m\u001b[38;5;124m\"\u001b[39m)\n",
      "\u001b[1;31mTypeError\u001b[0m: 'NoneType' object is not subscriptable"
     ]
    }
   ],
   "source": [
    "for i in range(len(names)):\n",
    "    print(f\"{names[i]} - {marks[i]} - {results[i]}\")\n"
   ]
  },
  {
   "cell_type": "code",
   "execution_count": 47,
   "id": "de86fa39-0c09-4517-882e-179dfbb03d29",
   "metadata": {},
   "outputs": [
    {
     "name": "stdout",
     "output_type": "stream",
     "text": [
      "Anjali - 85 - Pass\n",
      "Ravi - 55 - Pass\n",
      "Meera - 77 - Pass\n",
      "Neha - 90 - Pass\n",
      "Amit - 81 - Pass\n"
     ]
    }
   ],
   "source": [
    "names = [\"Anjali\", \"Ravi\", \"Meera\", \"Neha\", \"Amit\"]\n",
    "marks = [85, 55, 77, 90, 81]\n",
    "\n",
    "results = [\"Pass\" if m >= 50 else \"Fail\" for m in marks]\n",
    "\n",
    "for i in range(len(names)):\n",
    "    print(f\"{names[i]} - {marks[i]} - {results[i]}\")\n"
   ]
  },
  {
   "cell_type": "code",
   "execution_count": 53,
   "id": "9cd115f9-dc33-4573-b56b-78c6d15a0174",
   "metadata": {},
   "outputs": [
    {
     "name": "stdout",
     "output_type": "stream",
     "text": [
      "delhi- 2 may-3 may-1-taj\n",
      "agara- 2 may-4 may-3-taj\n",
      "mathura- 2 may-3 may-1-taj\n",
      "taj\n",
      "taj\n",
      "taj\n"
     ]
    },
    {
     "ename": "TypeError",
     "evalue": "'tuple' object does not support item assignment",
     "output_type": "error",
     "traceback": [
      "\u001b[1;31m---------------------------------------------------------------------------\u001b[0m",
      "\u001b[1;31mTypeError\u001b[0m                                 Traceback (most recent call last)",
      "Cell \u001b[1;32mIn[53], line 10\u001b[0m\n\u001b[0;32m      7\u001b[0m \u001b[38;5;28;01mfor\u001b[39;00m i \u001b[38;5;129;01min\u001b[39;00m \u001b[38;5;28mrange\u001b[39m(\u001b[38;5;241m0\u001b[39m,n):\n\u001b[0;32m      8\u001b[0m     \u001b[38;5;28mprint\u001b[39m(t[i][\u001b[38;5;241m4\u001b[39m])\n\u001b[1;32m---> 10\u001b[0m \u001b[43mt\u001b[49m\u001b[43m[\u001b[49m\u001b[38;5;241;43m1\u001b[39;49m\u001b[43m]\u001b[49m\u001b[43m[\u001b[49m\u001b[38;5;241;43m4\u001b[39;49m\u001b[43m]\u001b[49m\u001b[38;5;241m=\u001b[39m\u001b[38;5;124m\"\u001b[39m\u001b[38;5;124mman\u001b[39m\u001b[38;5;124m\"\u001b[39m\n\u001b[0;32m     11\u001b[0m \u001b[38;5;28mprint\u001b[39m(t)\n\u001b[0;32m     13\u001b[0m l\u001b[38;5;241m=\u001b[39m\u001b[38;5;28mlist\u001b[39m(t)\n",
      "\u001b[1;31mTypeError\u001b[0m: 'tuple' object does not support item assignment"
     ]
    }
   ],
   "source": [
    "t=((\"delhi\",\"2 may\"  ,\"3 may\" ,1 ,\"taj\"),(\"agara\",\"2 may\"  ,\"4 may\" ,3 ,\"taj\"),(\"mathura\",\"2 may\"  ,\"3 may\" ,1 ,\"taj\"))\n",
    "n=len(t)\n",
    "for i in range(0,n):\n",
    "    print(f\"{t[i][0]}- {t[i][1]}-{t[i][2]}-{t[i][3]}-{t[i][4]}\")\n",
    "\n",
    "#hotel name\n",
    "for i in range(0,n):\n",
    "    print(t[i][4])\n",
    "\n",
    "t[1][4]=\"man\"\n",
    "print(t)\n",
    "\n",
    "l=list(t)\n",
    "print(l)"
   ]
  },
  {
   "cell_type": "code",
   "execution_count": 49,
   "id": "ffb5b809-3cef-4eeb-9e6c-76f972304517",
   "metadata": {},
   "outputs": [
    {
     "data": {
      "text/plain": [
       "(('delhi', '2 may', '3 may', 1, 'taj'),\n",
       " ('agara', '2 may', '4 may', 3, 'taj'),\n",
       " ('mathura', '2 may', '3 may', 1, 'taj'))"
      ]
     },
     "execution_count": 49,
     "metadata": {},
     "output_type": "execute_result"
    }
   ],
   "source": [
    "t"
   ]
  },
  {
   "cell_type": "code",
   "execution_count": 54,
   "id": "6a9456d7-2aed-4b93-8657-2a910ee3690a",
   "metadata": {},
   "outputs": [
    {
     "name": "stdout",
     "output_type": "stream",
     "text": [
      "(('delhi', '2 may', '3 may', 1, 'Welcome Inn'), ('agara', '2 may', '4 may', 3, 'Welcome Inn'), ('mathura', '2 may', '3 may', 1, 'Welcome Inn'))\n"
     ]
    }
   ],
   "source": [
    "# Modify hotel name for each itinerary by converting sub-tuples to lists\n",
    "t = ((\"delhi\", \"2 may\", \"3 may\", 1, \"taj\"),\n",
    "     (\"agara\", \"2 may\", \"4 may\", 3, \"taj\"),\n",
    "     (\"mathura\", \"2 may\", \"3 may\", 1, \"taj\"))\n",
    "\n",
    "# Step 1: Convert main tuple to list\n",
    "l = list(t)\n",
    "\n",
    "# Step 2: Convert each sub-tuple to list\n",
    "for i in range(len(l)):\n",
    "    l[i] = list(l[i])\n",
    "    l[i][4] = \"Welcome Inn\"  # New hotel name\n",
    "\n",
    "# Step 3: Convert back to tuple\n",
    "new_t = tuple(tuple(i) for i in l)\n",
    "\n",
    "print(new_t)\n"
   ]
  },
  {
   "cell_type": "code",
   "execution_count": null,
   "id": "f429a4ec-e5f6-40da-b3c6-36a88ea60c46",
   "metadata": {},
   "outputs": [],
   "source": []
  }
 ],
 "metadata": {
  "kernelspec": {
   "display_name": "Python 3 (ipykernel)",
   "language": "python",
   "name": "python3"
  },
  "language_info": {
   "codemirror_mode": {
    "name": "ipython",
    "version": 3
   },
   "file_extension": ".py",
   "mimetype": "text/x-python",
   "name": "python",
   "nbconvert_exporter": "python",
   "pygments_lexer": "ipython3",
   "version": "3.12.7"
  }
 },
 "nbformat": 4,
 "nbformat_minor": 5
}
