{
 "cells": [
  {
   "cell_type": "code",
   "execution_count": 1,
   "id": "9701ae5e-40e8-41dd-a3f4-dd510a5ea190",
   "metadata": {},
   "outputs": [
    {
     "name": "stdout",
     "output_type": "stream",
     "text": [
      "guess the number\n"
     ]
    },
    {
     "name": "stdin",
     "output_type": "stream",
     "text": [
      "Enter any number 2\n"
     ]
    },
    {
     "name": "stdout",
     "output_type": "stream",
     "text": [
      "your number is smaller\n"
     ]
    },
    {
     "name": "stdin",
     "output_type": "stream",
     "text": [
      "do you want to guess again,press y n\n"
     ]
    },
    {
     "name": "stdout",
     "output_type": "stream",
     "text": [
      "1\n"
     ]
    }
   ],
   "source": [
    "from random import randint\n",
    "\n",
    "x=randint(1,100)\n",
    "print(\"guess the number\")\n",
    "count=0\n",
    "\n",
    "while True:\n",
    "    y=int(input(\"Enter any number\"))\n",
    "    count+=1\n",
    "    if(y==x):\n",
    "        print(\"congrats\")\n",
    "        break\n",
    "    elif (x>y):\n",
    "        print(\"your number is smaller\")\n",
    "        flag=input(\"do you want to guess again,press y\")\n",
    "        if(flag!=\"y\"):\n",
    "            break\n",
    "    else:\n",
    "        print(\"your number is greater\")\n",
    "        flag=input(\"do you want to guess again,press y\")\n",
    "        if(flag!=\"y\"):\n",
    "            break\n",
    "                \n",
    "print(count)\n"
   ]
  },
  {
   "cell_type": "code",
   "execution_count": null,
   "id": "14391f13-d054-4fbb-ba99-a35d75bb3420",
   "metadata": {},
   "outputs": [],
   "source": [
    "print(\"Anjali \\n43 \\n\\\"Good day\\\" \")"
   ]
  },
  {
   "cell_type": "code",
   "execution_count": null,
   "id": "884f9eaf-eca9-423e-a569-42bda2896237",
   "metadata": {},
   "outputs": [],
   "source": [
    "x=73\n",
    "y=2.3\n",
    "z=\"copilot\"\n",
    "print(x,y,z)\n",
    "print(type(x),type(y),type(z))"
   ]
  },
  {
   "cell_type": "code",
   "execution_count": null,
   "id": "4ba81dd6-e186-4a50-a85a-67525b34b775",
   "metadata": {},
   "outputs": [],
   "source": [
    "a = True         # Boolean\n",
    "b = complex(2,3) # Complex number\n",
    "c = None         # NoneType\n",
    "\n",
    "print(type(a), type(b), type(c))\n"
   ]
  },
  {
   "cell_type": "code",
   "execution_count": null,
   "id": "f3c6f022-0267-4eca-8cfd-6ae5cc832616",
   "metadata": {},
   "outputs": [],
   "source": [
    "a=4  #here a is integer\n",
    "b=5\n",
    "\"\"\"\n",
    "here we will print \n",
    "sum\n",
    "\"\"\"\n",
    "print(\"sum\",a+b)"
   ]
  },
  {
   "cell_type": "code",
   "execution_count": null,
   "id": "83c8dd49-2dec-41ad-8f48-56f5a7dc5da8",
   "metadata": {},
   "outputs": [],
   "source": [
    "x=9\n",
    "print(x,type(x))\n",
    "x=\"abc\"\n",
    "print(x,type(x))\n",
    "x=9.2\n",
    "print(x,type(x))"
   ]
  },
  {
   "cell_type": "code",
   "execution_count": null,
   "id": "8858a74f-2921-4549-9e04-7d281110ae54",
   "metadata": {},
   "outputs": [],
   "source": [
    "number1=2\n",
    "number2=6\n",
    "\n",
    "s=number1+number2\n",
    "print(s)"
   ]
  },
  {
   "cell_type": "code",
   "execution_count": null,
   "id": "8b23b373-a8a7-4a03-a260-b63b56a3ba1b",
   "metadata": {},
   "outputs": [],
   "source": [
    "import keyword\n",
    "print(keyword.kwlist)"
   ]
  },
  {
   "cell_type": "code",
   "execution_count": null,
   "id": "95a5544d-d46a-4a06-bc9d-0ae879f084dc",
   "metadata": {},
   "outputs": [],
   "source": [
    "name=input(\"enter your name\")\n",
    "age=int(input(\"enter your age\"))\n",
    "print(f\" hello {name} ,u are {age} old\")"
   ]
  },
  {
   "cell_type": "code",
   "execution_count": null,
   "id": "60e71a43-7c7d-48b6-a5d3-11601b6c2322",
   "metadata": {},
   "outputs": [],
   "source": [
    "x=input(\"enter any number\")\n",
    "y=int(x)+10\n",
    "print(f\"The final value is : {y}\")"
   ]
  },
  {
   "cell_type": "code",
   "execution_count": null,
   "id": "948545d7-00e3-4b8d-b182-117c96a3666e",
   "metadata": {},
   "outputs": [],
   "source": [
    "day=\"sunday\"\n",
    "year=2025\n",
    "happy=True\n",
    "print(day,type(day))\n",
    "print(year,type(year))\n",
    "print(happy,type(happy))"
   ]
  },
  {
   "cell_type": "code",
   "execution_count": null,
   "id": "98bca102-830c-4e18-8aad-6ce293ab4540",
   "metadata": {},
   "outputs": [],
   "source": [
    "x=7\n",
    "y=4\n",
    "s=x+y\n",
    "if(s>=10):\n",
    "    print(\"great\")\n",
    "else:\n",
    "    print(\"okk\")\n",
    "print(x&y)"
   ]
  },
  {
   "cell_type": "code",
   "execution_count": null,
   "id": "6b675151-6cf7-4e0e-a7dc-dee920f19185",
   "metadata": {},
   "outputs": [],
   "source": [
    "x=input(\"enter any number\")\n",
    "if(x.isdigit()):\n",
    "    x=int(x)\n",
    "    if(x==0):\n",
    "        print(\"it is even but a 0\")\n",
    "    elif(x%2==0):\n",
    "        print(\"even number\")\n",
    "    else:\n",
    "        print(\"odd number\")\n",
    "else:\n",
    "    print(\"oops u have done something wrong\")"
   ]
  },
  {
   "cell_type": "code",
   "execution_count": null,
   "id": "943cffe6-3895-41df-b372-5eb82106f9bb",
   "metadata": {},
   "outputs": [],
   "source": [
    "for i in range(1,21):\n",
    "    if(i%2==0):\n",
    "        print(i,sep=\" \")\n",
    "\n",
    "x=int(input(\"enter any number for table\"))\n",
    "i=1;\n",
    "while(i<=10):\n",
    "    print(f\"{x} * {i}={x*i}\")\n",
    "    i+=1"
   ]
  },
  {
   "cell_type": "code",
   "execution_count": null,
   "id": "8e65b2e8-0116-49f5-853b-5698f31e3fcc",
   "metadata": {},
   "outputs": [],
   "source": [
    "x=int(input(\"enter start of range to print even number\"))\n",
    "y=int(input(\"enter end of range to print even number\"))\n",
    "count=0\n",
    "for i in range(x,y+1):\n",
    "    if(i%2==0):\n",
    "        print(i)\n",
    "        count+=1\n",
    "print(f\"there are {count} even numbers\")\n",
    "\n",
    "while True:\n",
    "    x=int(input(\"enter any number\"))\n",
    "    if(x%5==0 & x%3==0):\n",
    "        print(\"FizzBuzz\")\n",
    "    elif(x%3==0):\n",
    "        print(\"Fizz\")\n",
    "    elif(x%5==0):\n",
    "        print(\"Buzz\")\n",
    "    else:\n",
    "        print(\"Not FizzBuzz\")\n",
    "    choice=input(\"enter n ,if u don't want to continue\")\n",
    "    if(choice==\"n\"):\n",
    "        break\n",
    "        "
   ]
  },
  {
   "cell_type": "code",
   "execution_count": null,
   "id": "f5741043-9942-4f3a-a437-c54b49ad178a",
   "metadata": {},
   "outputs": [],
   "source": [
    "s=input(\"enter any sentence\")\n",
    "l=[]\n",
    "count=0\n",
    "for i in s.split(\" \"):\n",
    "    print(i)\n",
    "    count+=1\n",
    "    if(len(i)>4):\n",
    "        l.append(i)\n",
    "print(f\"number of words in sentence {count}\")\n",
    "print(l)\n",
    "print(\"Long words are:\", \", \".join(l))\n",
    "print(f\"number of long words in sentence {len(l)}\")\n",
    "\n",
    "checked =0\n",
    "available=0\n",
    "while True:\n",
    "    word=input(\"enter word which you wanna check\")\n",
    "    checked+=1\n",
    "    if(word in l):\n",
    "        available+=1\n",
    "        print(\"Yes, it's one of the long words!\")\n",
    "    else:\n",
    "        print(\"Nope, not in the long words list.\")\n",
    "    choice=input(\"Enter n if u don't want to check further\")\n",
    "    if(choice==\"n\"):\n",
    "        break\n",
    "\n",
    "\n",
    "print(f\"You have checked for {checked} words ,but only {available} are available\")"
   ]
  },
  {
   "cell_type": "code",
   "execution_count": null,
   "id": "a5cf0372-cf38-4db1-a0d5-68a4fe8018f6",
   "metadata": {},
   "outputs": [],
   "source": [
    "from collections import Counter\n",
    "s=input(\"enter any sentence\")\n",
    "long_word=[word for word in s.split() if len(word)>4]\n",
    "word_freq=Counter(long_word)\n",
    "\n",
    "for w ,f in word_freq.items():\n",
    "    print(f\"{w},{f}\")"
   ]
  },
  {
   "cell_type": "code",
   "execution_count": 2,
   "id": "ae086165-a545-4af4-965c-6465e7fea791",
   "metadata": {},
   "outputs": [
    {
     "name": "stdin",
     "output_type": "stream",
     "text": [
      "enter any sentence llklsk afkllj  smkld\n"
     ]
    },
    {
     "name": "stdout",
     "output_type": "stream",
     "text": [
      "character frequencies\n",
      "a, 1\n",
      "d, 1\n",
      "f, 1\n",
      "j, 1\n",
      "k, 4\n",
      "l, 6\n",
      "m, 1\n",
      "s, 2\n",
      "aeiouAEIOU\n"
     ]
    }
   ],
   "source": [
    "s=input(\"enter any sentence\")\n",
    "char_freq={}\n",
    "\n",
    "for char in s:\n",
    "    if (char.isalpha()):\n",
    "        char=char.lower()\n",
    "        char_freq[char]=char_freq.get(char,0)+1\n",
    "\n",
    "print(\"character frequencies\")\n",
    "for c ,f in sorted(char_freq.items()):\n",
    "    print(f\"{c}, {f}\")\n",
    "    \n",
    "vowels = \"aeiouAEIOU\"\n",
    "vowel_count = sum(1 for c in s if c in vowels)\n",
    "print(vowels)\n",
    "\n"
   ]
  },
  {
   "cell_type": "code",
   "execution_count": null,
   "id": "a1b62d8d-b346-4dcb-bb67-f5781829ad66",
   "metadata": {},
   "outputs": [],
   "source": []
  }
 ],
 "metadata": {
  "kernelspec": {
   "display_name": "Python 3 (ipykernel)",
   "language": "python",
   "name": "python3"
  },
  "language_info": {
   "codemirror_mode": {
    "name": "ipython",
    "version": 3
   },
   "file_extension": ".py",
   "mimetype": "text/x-python",
   "name": "python",
   "nbconvert_exporter": "python",
   "pygments_lexer": "ipython3",
   "version": "3.12.7"
  }
 },
 "nbformat": 4,
 "nbformat_minor": 5
}
