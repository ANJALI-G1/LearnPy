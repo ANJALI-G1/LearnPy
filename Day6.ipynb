{
 "cells": [
  {
   "cell_type": "code",
   "execution_count": 1,
   "id": "c792fc3b-14c2-49d6-b87f-7f1da8d4965a",
   "metadata": {},
   "outputs": [],
   "source": [
    "def greet(name):\n",
    "    \"\"\"\n",
    "    This function takes name as input and output greetings\n",
    "\n",
    "    name(str):name of the person\n",
    "    returns A greeting message\n",
    "    \"\"\"\n",
    "    return f\"Hello ${name}\"\n",
    "\n"
   ]
  },
  {
   "cell_type": "code",
   "execution_count": 3,
   "id": "1c4581ee-bfb2-4e54-be2d-5d54e8fb888c",
   "metadata": {},
   "outputs": [
    {
     "data": {
      "text/plain": [
       "'Hello $radha'"
      ]
     },
     "execution_count": 3,
     "metadata": {},
     "output_type": "execute_result"
    }
   ],
   "source": [
    "greet(\"radha\")"
   ]
  },
  {
   "cell_type": "code",
   "execution_count": null,
   "id": "c943a710-37f7-4450-b492-6df0c51c7a2e",
   "metadata": {},
   "outputs": [],
   "source": []
  }
 ],
 "metadata": {
  "kernelspec": {
   "display_name": "Python 3 (ipykernel)",
   "language": "python",
   "name": "python3"
  },
  "language_info": {
   "codemirror_mode": {
    "name": "ipython",
    "version": 3
   },
   "file_extension": ".py",
   "mimetype": "text/x-python",
   "name": "python",
   "nbconvert_exporter": "python",
   "pygments_lexer": "ipython3",
   "version": "3.12.7"
  }
 },
 "nbformat": 4,
 "nbformat_minor": 5
}
