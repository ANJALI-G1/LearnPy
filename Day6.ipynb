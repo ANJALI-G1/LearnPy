{
 "cells": [
  {
   "cell_type": "code",
   "execution_count": 4,
   "id": "c792fc3b-14c2-49d6-b87f-7f1da8d4965a",
   "metadata": {},
   "outputs": [],
   "source": [
    "def greet(name):\n",
    "    \"\"\"\n",
    "    This function takes name as input and output greetings\n",
    "\n",
    "    name(str):name of the person\n",
    "    returns A greeting message\n",
    "    \"\"\"\n",
    "    return f\"Hello {name}\"\n",
    "\n"
   ]
  },
  {
   "cell_type": "code",
   "execution_count": 5,
   "id": "1c4581ee-bfb2-4e54-be2d-5d54e8fb888c",
   "metadata": {},
   "outputs": [
    {
     "data": {
      "text/plain": [
       "'Hello radha'"
      ]
     },
     "execution_count": 5,
     "metadata": {},
     "output_type": "execute_result"
    }
   ],
   "source": [
    "greet(\"radha\")"
   ]
  },
  {
   "cell_type": "code",
   "execution_count": 6,
   "id": "ab8bf783",
   "metadata": {},
   "outputs": [
    {
     "data": {
      "text/plain": [
       "'\\n    This function takes name as input and output greetings\\n\\n    name(str):name of the person\\n    returns A greeting message\\n    '"
      ]
     },
     "execution_count": 6,
     "metadata": {},
     "output_type": "execute_result"
    }
   ],
   "source": [
    "greet.__doc__"
   ]
  },
  {
   "cell_type": "code",
   "execution_count": null,
   "id": "42eda5e9-4b3b-4b7b-b69b-4bc830428e9d",
   "metadata": {},
   "outputs": [],
   "source": [
    "# #by default return type of  python functions is None\n",
    "# there are 4 types of parameter\n",
    "# 1.Default arguments\n",
    "# 2.Positional argurment\n",
    "# 3.Keyword arguement (explicitly mentioning value of parameter,a=2,b=3)\n",
    "# 4.Arbitary argument"
   ]
  },
  {
   "cell_type": "code",
   "execution_count": 2,
   "id": "b69764e7-5afe-4954-a846-5f1f2ec82094",
   "metadata": {},
   "outputs": [
    {
     "data": {
      "text/plain": [
       "6"
      ]
     },
     "execution_count": 2,
     "metadata": {},
     "output_type": "execute_result"
    }
   ],
   "source": [
    "def flexi(*number):\n",
    "    p=1;\n",
    "    for i in number:\n",
    "        p*=i\n",
    "    return p\n",
    "\n",
    "flexi(1,2,3) #type is tuple"
   ]
  },
  {
   "cell_type": "code",
   "execution_count": 3,
   "id": "3be85fe4-3e70-45e3-ac1e-48fba030f202",
   "metadata": {},
   "outputs": [],
   "source": [
    "def f(num):\n",
    "    return num**2\n",
    "    "
   ]
  },
  {
   "cell_type": "code",
   "execution_count": 4,
   "id": "9b4ff21d-42b8-49b5-98a0-47749b0bf358",
   "metadata": {},
   "outputs": [
    {
     "data": {
      "text/plain": [
       "25"
      ]
     },
     "execution_count": 4,
     "metadata": {},
     "output_type": "execute_result"
    }
   ],
   "source": [
    "x=f\n",
    "x(5)"
   ]
  },
  {
   "cell_type": "code",
   "execution_count": 5,
   "id": "385f0eb0-b849-4e0b-b712-83f26cb253f0",
   "metadata": {},
   "outputs": [],
   "source": [
    "def f():\n",
    "    def m(a,b):\n",
    "        return a+b\n",
    "    return m"
   ]
  },
  {
   "cell_type": "code",
   "execution_count": 6,
   "id": "8d7577c8-fcb4-4b58-a5bf-f665d78f54cb",
   "metadata": {},
   "outputs": [
    {
     "data": {
      "text/plain": [
       "7"
      ]
     },
     "execution_count": 6,
     "metadata": {},
     "output_type": "execute_result"
    }
   ],
   "source": [
    "x=f()(3,4)\n",
    "x"
   ]
  },
  {
   "cell_type": "code",
   "execution_count": 8,
   "id": "4103b7ba-bb71-4e5a-afca-212c05b235f6",
   "metadata": {},
   "outputs": [
    {
     "name": "stdout",
     "output_type": "stream",
     "text": [
      "{1: 'odd', 2: 'even', 3: 'odd', 4: 'even', 5: 'odd'}\n"
     ]
    }
   ],
   "source": [
    "# Write a function that takes a list of numbers and returns a dictionary with keys 'even' and 'odd', each containing a list of respective numbers.\n",
    "def getDic(l):\n",
    "    dic={}\n",
    "    for i in l:\n",
    "        if(i%2==0):\n",
    "            dic[i]=\"even\"\n",
    "        else:\n",
    "            dic[i]=\"odd\"\n",
    "    return dic\n",
    "\n",
    "l=[1,2,3,4,5]\n",
    "x=getDic(l)\n",
    "print(x)\n"
   ]
  },
  {
   "cell_type": "code",
   "execution_count": 21,
   "id": "c1a0c162-f4ce-46a1-93f0-800e428e61f2",
   "metadata": {},
   "outputs": [
    {
     "name": "stdin",
     "output_type": "stream",
     "text": [
      "enter any number 5\n"
     ]
    },
    {
     "name": "stdout",
     "output_type": "stream",
     "text": [
      "1\n",
      "1\n",
      "2\n",
      "3\n",
      "5\n"
     ]
    }
   ],
   "source": [
    "# Create a recursive function to calculate the nth Fibonacci number. Optimize it using memoization.\n",
    "def fib(n,f=1,s=1):\n",
    "    if(n==0):\n",
    "        return\n",
    "    temp=f+s\n",
    "    f=s\n",
    "    s=temp\n",
    "    print(temp)\n",
    "    fib(n-1,f,s)\n",
    "n=int(input(\"enter any number\"))\n",
    "if(n>=1):\n",
    "    print(1)\n",
    "\n",
    "if(n>=2):\n",
    "    print(1)\n",
    "    \n",
    "if(n>2):\n",
    "    fib(3)\n",
    "\n"
   ]
  },
  {
   "cell_type": "code",
   "execution_count": 28,
   "id": "6faf5610-2325-475f-b817-3f7fb9f62484",
   "metadata": {},
   "outputs": [
    {
     "name": "stdout",
     "output_type": "stream",
     "text": [
      "there a= 2 and b =7\n"
     ]
    }
   ],
   "source": [
    "# Define a function that accepts any number of keyword arguments and returns a formatted string summarizing them.\n",
    "def f(a,b):\n",
    "    s=f\"there a= {a} and b ={b}\"\n",
    "    return s\n",
    "print(f(b=7,a=2))\n",
    "\n"
   ]
  },
  {
   "cell_type": "code",
   "execution_count": 27,
   "id": "29cda583-c502-4797-8bb2-1b40a462b5cd",
   "metadata": {},
   "outputs": [
    {
     "data": {
      "text/plain": [
       "12"
      ]
     },
     "execution_count": 27,
     "metadata": {},
     "output_type": "execute_result"
    }
   ],
   "source": [
    "# Write a function that returns another function which multiplies its input by a fixed number (closure example).\n",
    "def x():\n",
    "    return 4\n",
    "\n",
    "def f( ):\n",
    "    return x()*3\n",
    "\n",
    "f()\n",
    "\n",
    "    \n",
    "\n"
   ]
  },
  {
   "cell_type": "code",
   "execution_count": 29,
   "id": "2e0c7070-077b-4f99-989e-d05e8f0493df",
   "metadata": {},
   "outputs": [
    {
     "name": "stdout",
     "output_type": "stream",
     "text": [
      "['HELLO', 'WORLD']\n"
     ]
    }
   ],
   "source": [
    "# Use a lambda function with map() to convert a list of strings to uppercase.\n",
    "words = ['hello', 'world']\n",
    "uppercased = list(map(lambda s: s.upper(), words))\n",
    "print(uppercased)\n"
   ]
  },
  {
   "cell_type": "code",
   "execution_count": null,
   "id": "92499e5c-cfab-4b97-8b98-eee23a992b7a",
   "metadata": {},
   "outputs": [],
   "source": [
    "1.print is a function while return is statement that tells what a function is returning\n",
    "2\n",
    "3 Recursion is a functions when it calls same function again and again untill it meets a specific condition called base case\n",
    "4.closure means when one function return another function and this is similar to what nesting to do,because in nesting we also do the same thing\n",
    "5.Python treats function as object ,we can rename it,delete it "
   ]
  }
 ],
 "metadata": {
  "kernelspec": {
   "display_name": "Python 3 (ipykernel)",
   "language": "python",
   "name": "python3"
  },
  "language_info": {
   "codemirror_mode": {
    "name": "ipython",
    "version": 3
   },
   "file_extension": ".py",
   "mimetype": "text/x-python",
   "name": "python",
   "nbconvert_exporter": "python",
   "pygments_lexer": "ipython3",
   "version": "3.12.7"
  }
 },
 "nbformat": 4,
 "nbformat_minor": 5
}
