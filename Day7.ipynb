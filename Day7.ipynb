{
 "cells": [
  {
   "cell_type": "code",
   "execution_count": 2,
   "id": "024ff0ba-33d3-4233-bb4f-27dfcf90c93f",
   "metadata": {},
   "outputs": [],
   "source": [
    "def multi(x,n=5):\n",
    "    # base case\n",
    "    if(n==0) :\n",
    "        return 0\n",
    "    return x+multi(x,n-1)"
   ]
  },
  {
   "cell_type": "code",
   "execution_count": 3,
   "id": "d8c2a098-5e90-4713-850c-a278b2ab0d38",
   "metadata": {},
   "outputs": [
    {
     "data": {
      "text/plain": [
       "20"
      ]
     },
     "execution_count": 3,
     "metadata": {},
     "output_type": "execute_result"
    }
   ],
   "source": [
    "multi(4)"
   ]
  },
  {
   "cell_type": "code",
   "execution_count": 4,
   "id": "3b5ac2d3-4da0-4e01-b9ff-45e5fa1584a3",
   "metadata": {},
   "outputs": [
    {
     "data": {
      "text/plain": [
       "120"
      ]
     },
     "execution_count": 4,
     "metadata": {},
     "output_type": "execute_result"
    }
   ],
   "source": [
    "def fact(n=5):\n",
    "    if(n==1):\n",
    "        return 1\n",
    "    else:\n",
    "        return n*fact(n-1)\n",
    "fact()"
   ]
  },
  {
   "cell_type": "code",
   "execution_count": 10,
   "id": "27dbc1d7-455b-4054-94e5-5feed344c4f2",
   "metadata": {},
   "outputs": [],
   "source": [
    "def palindrome(l,r,str):\n",
    "    if(l>=r) :\n",
    "        return True\n",
    "    elif(str[l]==str[r]):\n",
    "        return palindrome(l+1,r-1,str)\n",
    "    else:\n",
    "        return False\n",
    "\n"
   ]
  },
  {
   "cell_type": "code",
   "execution_count": 13,
   "id": "b91c523c-f5c3-4ac4-b075-1406b0eb0319",
   "metadata": {},
   "outputs": [
    {
     "data": {
      "text/plain": [
       "False"
      ]
     },
     "execution_count": 13,
     "metadata": {},
     "output_type": "execute_result"
    }
   ],
   "source": [
    "palindrome(0,3,\"naam\")"
   ]
  },
  {
   "cell_type": "code",
   "execution_count": 18,
   "id": "a9927abe-fb5e-4545-a36d-3f1b0468759c",
   "metadata": {},
   "outputs": [
    {
     "data": {
      "text/plain": [
       "16"
      ]
     },
     "execution_count": 18,
     "metadata": {},
     "output_type": "execute_result"
    }
   ],
   "source": [
    "def rabitcount(n,months,target):\n",
    "    if(months==target):\n",
    "        return n\n",
    "    else:\n",
    "        return 2*rabitcount(n,months+1,target)\n",
    "rabitcount(4,1,3)"
   ]
  },
  {
   "cell_type": "code",
   "execution_count": 27,
   "id": "099bc9be-ae98-4745-92df-56fb9a64cfa4",
   "metadata": {},
   "outputs": [
    {
     "data": {
      "text/plain": [
       "233"
      ]
     },
     "execution_count": 27,
     "metadata": {},
     "output_type": "execute_result"
    }
   ],
   "source": [
    "def rabit(n,number):\n",
    "    if(n<=1):\n",
    "        return 1\n",
    "    if(n in number):\n",
    "        return number[n]\n",
    "    else:\n",
    "        number[n]=rabit(n-1,number)+rabit(n-2,number)\n",
    "        return number[n]\n",
    "\n",
    "number={0:1,1:1}\n",
    "rabit(12,number)\n",
    "    "
   ]
  },
  {
   "cell_type": "code",
   "execution_count": 30,
   "id": "5c5a0c8b-f474-491e-a365-3a5c4252555d",
   "metadata": {},
   "outputs": [
    {
     "name": "stdout",
     "output_type": "stream",
     "text": [
      "[[1, 2, 3], [1, 2], [1, 3], [1], [2, 3], [2], [3], []]\n"
     ]
    }
   ],
   "source": [
    "# powerset\n",
    "ans =[]\n",
    "def p(num,i,n,v):\n",
    "    if(i==n):\n",
    "        ans.append(v.copy())  \n",
    "        return\n",
    "    # take\n",
    "    v.append(num[i])\n",
    "    p(num,i+1,n,v)\n",
    "    v.pop()\n",
    "    p(num,i+1,n,v)\n",
    "v=[]\n",
    "num=[1,2,3]\n",
    "p(num,0,3,v)\n",
    "print(ans)"
   ]
  },
  {
   "cell_type": "code",
   "execution_count": null,
   "id": "dd99b2b1-db17-4ba3-9cc8-5922a7ab7d14",
   "metadata": {},
   "outputs": [],
   "source": []
  }
 ],
 "metadata": {
  "kernelspec": {
   "display_name": "Python 3 (ipykernel)",
   "language": "python",
   "name": "python3"
  },
  "language_info": {
   "codemirror_mode": {
    "name": "ipython",
    "version": 3
   },
   "file_extension": ".py",
   "mimetype": "text/x-python",
   "name": "python",
   "nbconvert_exporter": "python",
   "pygments_lexer": "ipython3",
   "version": "3.12.7"
  }
 },
 "nbformat": 4,
 "nbformat_minor": 5
}
