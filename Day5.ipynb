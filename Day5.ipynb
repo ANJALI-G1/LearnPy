{
 "cells": [
  {
   "cell_type": "code",
   "execution_count": 5,
   "id": "9276d860-c648-4787-9cd5-15a6a0614fd4",
   "metadata": {},
   "outputs": [
    {
     "ename": "TypeError",
     "evalue": "'tuple' object does not support item assignment",
     "output_type": "error",
     "traceback": [
      "\u001b[1;31m---------------------------------------------------------------------------\u001b[0m",
      "\u001b[1;31mTypeError\u001b[0m                                 Traceback (most recent call last)",
      "Cell \u001b[1;32mIn[5], line 11\u001b[0m\n\u001b[0;32m      6\u001b[0m mutable_list\u001b[38;5;241m.\u001b[39mappend(\u001b[38;5;241m4\u001b[39m)\n\u001b[0;32m      8\u001b[0m \u001b[38;5;66;03m# Try modifying immutable object (should raise error if attempted)\u001b[39;00m\n\u001b[0;32m      9\u001b[0m \u001b[38;5;66;03m# immutable_tuple.append(2)\u001b[39;00m\n\u001b[0;32m     10\u001b[0m \u001b[38;5;66;03m# immutable_tuple[0] = 99  # Uncomment to test immutability\u001b[39;00m\n\u001b[1;32m---> 11\u001b[0m \u001b[43mimmutable_tuple\u001b[49m\u001b[43m[\u001b[49m\u001b[38;5;241;43m0\u001b[39;49m\u001b[43m]\u001b[49m\u001b[38;5;241m=\u001b[39m\u001b[38;5;241m99\u001b[39m\n\u001b[0;32m     13\u001b[0m \u001b[38;5;28mprint\u001b[39m(\u001b[38;5;124m\"\u001b[39m\u001b[38;5;124mMutable List:\u001b[39m\u001b[38;5;124m\"\u001b[39m, mutable_list)\n\u001b[0;32m     14\u001b[0m \u001b[38;5;28mprint\u001b[39m(\u001b[38;5;124m\"\u001b[39m\u001b[38;5;124mImmutable Tuple:\u001b[39m\u001b[38;5;124m\"\u001b[39m, immutable_tuple)\n",
      "\u001b[1;31mTypeError\u001b[0m: 'tuple' object does not support item assignment"
     ]
    }
   ],
   "source": [
    "#started# Create a mutable and immutable object\n",
    "mutable_list = [1, 2, 3]\n",
    "immutable_tuple = (1, 2, 3)\n",
    "\n",
    "# Modify mutable object\n",
    "mutable_list.append(4)\n",
    "\n",
    "# Try modifying immutable object (should raise error if attempted)\n",
    "# immutable_tuple.append(2)\n",
    "# immutable_tuple[0] = 99  # Uncomment to test immutability\n",
    "immutable_tuple[0]=99\n",
    "\n",
    "print(\"Mutable List:\", mutable_list)\n",
    "print(\"Immutable Tuple:\", immutable_tuple)\n"
   ]
  },
  {
   "cell_type": "code",
   "execution_count": 6,
   "id": "5ebb40ff-45c9-4aa1-9038-37e5258c024d",
   "metadata": {},
   "outputs": [
    {
     "name": "stdout",
     "output_type": "stream",
     "text": [
      "ID of a: 2294721574720\n",
      "ID of b: 2294721574720\n",
      "a after modifying b: [10, 20, 30]\n",
      "[10, 20, 30]\n"
     ]
    }
   ],
   "source": [
    "a = [10, 20]\n",
    "b = a\n",
    "\n",
    "print(\"ID of a:\", id(a))\n",
    "print(\"ID of b:\", id(b))\n",
    "\n",
    "b.append(30)\n",
    "print(\"a after modifying b:\", a)\n",
    "print(b)\n"
   ]
  },
  {
   "cell_type": "code",
   "execution_count": 7,
   "id": "92b725ec-e23c-417c-a883-8d79f69e71d6",
   "metadata": {},
   "outputs": [
    {
     "name": "stdout",
     "output_type": "stream",
     "text": [
      "Reference count of x: 2\n",
      "Reference count after more assignments: 4\n",
      "Reference count after deleting y: 3\n"
     ]
    }
   ],
   "source": [
    "import sys\n",
    "\n",
    "x = [1, 2, 3]\n",
    "print(\"Reference count of x:\", sys.getrefcount(x))\n",
    "\n",
    "y = x\n",
    "z = x\n",
    "print(\"Reference count after more assignments:\", sys.getrefcount(x))\n",
    "\n",
    "del y\n",
    "print(\"Reference count after deleting y:\", sys.getrefcount(x))\n"
   ]
  },
  {
   "cell_type": "code",
   "execution_count": 8,
   "id": "86b5b598-6eb1-4349-876d-58403dbf3cb8",
   "metadata": {},
   "outputs": [
    {
     "name": "stdout",
     "output_type": "stream",
     "text": [
      "Original: [[99, 2], [3, 4]]\n",
      "Shallow Copy: [[99, 2], [3, 4]]\n",
      "Deep Copy: [[1, 2], [3, 4]]\n"
     ]
    }
   ],
   "source": [
    "import copy\n",
    "\n",
    "original = [[1, 2], [3, 4]]\n",
    "shallow = copy.copy(original)\n",
    "deep = copy.deepcopy(original)\n",
    "\n",
    "original[0][0] = 99\n",
    "\n",
    "print(\"Original:\", original)\n",
    "print(\"Shallow Copy:\", shallow)\n",
    "print(\"Deep Copy:\", deep)\n"
   ]
  },
  {
   "cell_type": "code",
   "execution_count": null,
   "id": "dfbd6bde-5861-4645-9ce5-5e5c8e48eb20",
   "metadata": {},
   "outputs": [],
   "source": []
  }
 ],
 "metadata": {
  "kernelspec": {
   "display_name": "Python 3 (ipykernel)",
   "language": "python",
   "name": "python3"
  },
  "language_info": {
   "codemirror_mode": {
    "name": "ipython",
    "version": 3
   },
   "file_extension": ".py",
   "mimetype": "text/x-python",
   "name": "python",
   "nbconvert_exporter": "python",
   "pygments_lexer": "ipython3",
   "version": "3.12.7"
  }
 },
 "nbformat": 4,
 "nbformat_minor": 5
}
