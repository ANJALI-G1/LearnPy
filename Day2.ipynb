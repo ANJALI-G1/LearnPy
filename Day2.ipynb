{
 "cells": [
  {
   "cell_type": "code",
   "execution_count": 1,
   "id": "40e76e88-5905-4aa3-8b22-95744021b39b",
   "metadata": {},
   "outputs": [
    {
     "name": "stdout",
     "output_type": "stream",
     "text": [
      "No Python documentation found for 'module'.\n",
      "Use help() to get the interactive help utility.\n",
      "Use help(str) for help on the str class.\n",
      "\n"
     ]
    }
   ],
   "source": [
    "help('module')\n"
   ]
  },
  {
   "cell_type": "code",
   "execution_count": 5,
   "id": "70c3a2e9-3d67-4476-9bd3-4ba203c09835",
   "metadata": {},
   "outputs": [
    {
     "name": "stdin",
     "output_type": "stream",
     "text": [
      "enter number of rows 4\n"
     ]
    },
    {
     "name": "stdout",
     "output_type": "stream",
     "text": [
      "* \n",
      "* * \n",
      "* * * \n",
      "* * * * \n"
     ]
    }
   ],
   "source": [
    "n=int(input(\"enter number of rows\"))\n",
    "for i in range(1,n+1):\n",
    "    for j in range (1,i+1):\n",
    "        print(\"*\",end=\" \")\n",
    "    print()"
   ]
  },
  {
   "cell_type": "code",
   "execution_count": 6,
   "id": "613316eb-af9a-4d74-a448-37566d720161",
   "metadata": {},
   "outputs": [
    {
     "name": "stdin",
     "output_type": "stream",
     "text": [
      "enter number of elements in list 6\n",
      "enter element 10\n",
      "enter element -5\n",
      "enter element 0\n",
      "enter element 25\n",
      "enter element 150\n",
      "enter element 30\n"
     ]
    },
    {
     "name": "stdout",
     "output_type": "stream",
     "text": [
      "10\n",
      "25\n"
     ]
    }
   ],
   "source": [
    "n=int(input(\"enter number of elements in list\"))\n",
    "l=[]\n",
    "for i in range(0,n):\n",
    "    x=int(input(\"enter element\"))\n",
    "    l.append(x)\n",
    "\n",
    "for i in l:\n",
    "    if(i<0) :\n",
    "        continue\n",
    "    elif(i>100):\n",
    "        break\n",
    "    elif(i==0):\n",
    "        pass\n",
    "    else:\n",
    "        print(i)\n",
    "    \n",
    "    "
   ]
  },
  {
   "cell_type": "code",
   "execution_count": 8,
   "id": "b56408d4-babe-433f-ba06-bcdf5936adf9",
   "metadata": {},
   "outputs": [
    {
     "name": "stdin",
     "output_type": "stream",
     "text": [
      "enter number of elements in list 7\n",
      "enter element 12\n",
      "enter element 45\n",
      "enter element 67\n",
      "enter element 23\n",
      "enter element 89\n",
      "enter element 0\n",
      "enter element -5\n"
     ]
    },
    {
     "name": "stdout",
     "output_type": "stream",
     "text": [
      "Total elements 7\n",
      "Maximum value: 89\n",
      "Minimum value : -5\n",
      "Sum : 231\n",
      "Type : <class 'list'>\n"
     ]
    }
   ],
   "source": [
    "n=int(input(\"enter number of elements in list\"))\n",
    "l=[]\n",
    "for i in range(0,n):\n",
    "    x=int(input(\"enter element\"))\n",
    "    l.append(x)\n",
    "\n",
    "print(f\"Total elements {len(l)}\")\n",
    "print(f\"Maximum value: {max(l)}\")\n",
    "print(f\"Minimum value : {min(l)}\")\n",
    "print(f\"Sum : {sum(l)}\")\n",
    "print(f\"Type : {type(l)}\")"
   ]
  },
  {
   "cell_type": "code",
   "execution_count": 21,
   "id": "dcde7677-5dab-4b32-b0da-12329a196511",
   "metadata": {},
   "outputs": [
    {
     "name": "stdout",
     "output_type": "stream",
     "text": [
      "C:\\Users\\anjal\\OneDrive\\Documents\\Desktop\\Python Learning\n",
      "20 4.47213595499958\n",
      "2025-08-04\n",
      "21:34:35.871823\n"
     ]
    }
   ],
   "source": [
    "from  random import randint\n",
    "from datetime import datetime\n",
    "from datetime import time\n",
    "import time \n",
    "import os\n",
    "import math \n",
    "x=randint(1,100)\n",
    "time.sleep(2)\n",
    "y=math.sqrt(x)\n",
    "print(os.getcwd())\n",
    "print(x,y)\n",
    "now=datetime.now()\n",
    "print(now.date())\n",
    "print(now.time())"
   ]
  },
  {
   "cell_type": "code",
   "execution_count": 26,
   "id": "9e5918ca-39c3-47a2-8969-61aded7ee747",
   "metadata": {},
   "outputs": [
    {
     "name": "stdin",
     "output_type": "stream",
     "text": [
      "enter any string ml.l;x;lk;ls\n"
     ]
    },
    {
     "name": "stdout",
     "output_type": "stream",
     "text": [
      "12\n",
      "ML.L;X;LK;LS\n",
      "ml.l;x;lk;ls\n",
      "vowels 0\n",
      "sl;kl;x;l.lm\n"
     ]
    }
   ],
   "source": [
    "##String\n",
    "\n",
    "s=input(\"enter any string\")\n",
    "count=sum(1 for i in s)\n",
    "print(count)\n",
    "print(s.upper())\n",
    "print(s.lower())\n",
    "vowel=sum(1 for i in s if i in \"aeiouAEIOU\")\n",
    "print(\"vowels\",vowel)\n",
    "s=s[::-1]\n",
    "print(s)"
   ]
  },
  {
   "cell_type": "code",
   "execution_count": 33,
   "id": "edd0a10f-ce80-4dca-9bf7-1cf9ad0e5b91",
   "metadata": {},
   "outputs": [
    {
     "name": "stdin",
     "output_type": "stream",
     "text": [
      "enter string python\n"
     ]
    },
    {
     "name": "stdout",
     "output_type": "stream",
     "text": [
      "First 5 characters: pytho\n",
      "Last 3 characters hon\n",
      "reversed nhy\n",
      "Substring from 2 to 7: thon\n"
     ]
    }
   ],
   "source": [
    "str=input(\"enter string\")\n",
    "print (\"First 5 characters:\",str[0:5])\n",
    "print(\"Last 3 characters\", str[-3::])\n",
    "print(\"reversed\",str[::-2])\n",
    "print(\"Substring from 2 to 7:\", str[2:8])"
   ]
  },
  {
   "cell_type": "code",
   "execution_count": 35,
   "id": "fed33c90-e16b-424b-adb5-8c990ed55295",
   "metadata": {},
   "outputs": [
    {
     "name": "stdout",
     "output_type": "stream",
     "text": [
      "combined message: Alpha Omega\n",
      "repeated message: Alpha OmegaAlpha OmegaAlpha Omega\n",
      "Is 'Mega' present? False\n",
      "Longer word: Omega\n",
      "Count of 'a': 9\n",
      "Comes first alphabetically: Alpha\n"
     ]
    }
   ],
   "source": [
    "import math  # Required for Task 4\n",
    "secret1 = \"Alpha\" \n",
    "secret2 = \"Omega\" \n",
    "multiplier = 3\n",
    "# Task 1\n",
    "combined = secret1 + \" \" + secret2\n",
    "print(\"combined message:\", combined)\n",
    "\n",
    "# Task 2\n",
    "repeated_message = combined * multiplier\n",
    "print(\"repeated message:\", repeated_message)\n",
    "\n",
    "# Task 3\n",
    "is_present = \"Mega\" in repeated_message\n",
    "print(\"Is 'Mega' present?\", is_present)\n",
    "\n",
    "# Task 4 - math.max is incorrect in Python. Use built-in max() or conditional logic\n",
    "longer_word = secret1 if len(secret1) > len(secret2) else secret2\n",
    "print(\"Longer word:\", longer_word)\n",
    "\n",
    "# Task 5\n",
    "count_a = sum(1 for i in repeated_message if i.lower() == 'a')\n",
    "print(\"Count of 'a':\", count_a)\n",
    "\n",
    "# Task 6 - Python doesn’t support ternary `? :`, use if-else inline\n",
    "alpha_check = secret1 if secret1 < secret2 else secret2\n",
    "print(\"Comes first alphabetically:\", alpha_check)\n"
   ]
  },
  {
   "cell_type": "code",
   "execution_count": 39,
   "id": "f89b47f4-209d-4701-ae2e-7cb931ac9fc8",
   "metadata": {},
   "outputs": [
    {
     "name": "stdin",
     "output_type": "stream",
     "text": [
      "Enter the magic spell:  kjkljjls\n"
     ]
    },
    {
     "name": "stdout",
     "output_type": "stream",
     "text": [
      "NO\n",
      "NO\n",
      "kjkljjls\n",
      "Number of words: 1\n",
      "Enchanted version: kjkljjls\n",
      "Position of 'magic': Not found\n"
     ]
    }
   ],
   "source": [
    "spell = input(\"Enter the magic spell: \")\n",
    "\n",
    "# Task 1\n",
    "print(\"Yes\" if spell.startswith(\"Abra\") else \"NO\")\n",
    "\n",
    "# Task 2\n",
    "print(\"Yes\" if spell.endswith(\"cadabra\") else \"NO\")\n",
    "\n",
    "# Task 3\n",
    "print(spell.replace('a', '*'))  # Output the replaced version\n",
    "\n",
    "# Task 4\n",
    "words = spell.split()\n",
    "print(\"Number of words:\", len(words))\n",
    "\n",
    "# Task 5\n",
    "print(\"Enchanted version:\", '🔮'.join(words))\n",
    "\n",
    "# Task 6\n",
    "magic_index = spell.find('magic')\n",
    "print(\"Position of 'magic':\", magic_index if magic_index != -1 else \"Not found\")\n"
   ]
  },
  {
   "cell_type": "code",
   "execution_count": null,
   "id": "d0fc93db-432f-4191-9aca-24d350f6bd84",
   "metadata": {},
   "outputs": [],
   "source": []
  }
 ],
 "metadata": {
  "kernelspec": {
   "display_name": "Python 3 (ipykernel)",
   "language": "python",
   "name": "python3"
  },
  "language_info": {
   "codemirror_mode": {
    "name": "ipython",
    "version": 3
   },
   "file_extension": ".py",
   "mimetype": "text/x-python",
   "name": "python",
   "nbconvert_exporter": "python",
   "pygments_lexer": "ipython3",
   "version": "3.12.7"
  }
 },
 "nbformat": 4,
 "nbformat_minor": 5
}
