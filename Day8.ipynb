{
 "cells": [
  {
   "cell_type": "code",
   "execution_count": 1,
   "id": "bf15e509-6eda-4d54-84f1-21211aacc144",
   "metadata": {},
   "outputs": [],
   "source": [
    "# lambda input: expresession\n",
    "\n",
    "x=lambda x:x**2"
   ]
  },
  {
   "cell_type": "code",
   "execution_count": 2,
   "id": "23e97ab7-3f5a-4258-9fdc-5e0cc7695ffd",
   "metadata": {},
   "outputs": [
    {
     "data": {
      "text/plain": [
       "81"
      ]
     },
     "execution_count": 2,
     "metadata": {},
     "output_type": "execute_result"
    }
   ],
   "source": [
    "x(9)"
   ]
  },
  {
   "cell_type": "code",
   "execution_count": 3,
   "id": "3d510a56-3642-42e4-b12f-e16439d2bc8f",
   "metadata": {},
   "outputs": [
    {
     "data": {
      "text/plain": [
       "9"
      ]
     },
     "execution_count": 3,
     "metadata": {},
     "output_type": "execute_result"
    }
   ],
   "source": [
    "y=lambda a,b:a+b\n",
    "y(4,5)"
   ]
  },
  {
   "cell_type": "code",
   "execution_count": null,
   "id": "6ace8af0-1b9a-4e0e-a62b-3f33e5f21419",
   "metadata": {},
   "outputs": [],
   "source": [
    "#difference \n",
    "# 1.Lambda has no return value\n",
    "# 2.this is directly returning function\n",
    "#3.one -liner\n",
    "#4.Not reusibility\n",
    "#5.There is no name of lambda function\n",
    "\n",
    "#we use it with higher order function"
   ]
  },
  {
   "cell_type": "code",
   "execution_count": 5,
   "id": "fc5960c2-963d-4153-af46-da6074ec71af",
   "metadata": {},
   "outputs": [
    {
     "data": {
      "text/plain": [
       "False"
      ]
     },
     "execution_count": 5,
     "metadata": {},
     "output_type": "execute_result"
    }
   ],
   "source": [
    "b=lambda x: x[0]=='a'\n",
    "b(\"bapple\")"
   ]
  },
  {
   "cell_type": "code",
   "execution_count": 7,
   "id": "cf9fd852-4cf4-4f94-83ae-8d5dc4f6a82a",
   "metadata": {},
   "outputs": [
    {
     "data": {
      "text/plain": [
       "'Odd'"
      ]
     },
     "execution_count": 7,
     "metadata": {},
     "output_type": "execute_result"
    }
   ],
   "source": [
    "b=lambda x:'Even' if x%2==0 else 'Odd'\n",
    "b(7)"
   ]
  },
  {
   "cell_type": "code",
   "execution_count": null,
   "id": "541b4157-b867-4048-8733-36d9bc504a20",
   "metadata": {},
   "outputs": [],
   "source": [
    "l=[11,14,21,23,56,78,56,29,28]\n",
    "\n",
    "even=lambda x:x%2==0\n",
    "odd=lambda x:x%2==1\n",
    "div=lambda x:x%3==0"
   ]
  },
  {
   "cell_type": "code",
   "execution_count": null,
   "id": "9752ac3e-d76a-47e7-b23f-b514a6bc50f8",
   "metadata": {},
   "outputs": [],
   "source": [
    "# MAp-expects iterable object map(lmbda function,iterable object)\n",
    "# Filter\n",
    "# Reduce"
   ]
  },
  {
   "cell_type": "code",
   "execution_count": 13,
   "id": "c67ad48c-7659-4353-9746-89f908ac2c45",
   "metadata": {},
   "outputs": [
    {
     "data": {
      "text/plain": [
       "[2, 4, 6, 8, 10, 12]"
      ]
     },
     "execution_count": 13,
     "metadata": {},
     "output_type": "execute_result"
    }
   ],
   "source": [
    "l=[1,2,3,4,5,6]\n",
    "m=list(map(lambda x:x*2,l))\n",
    "m"
   ]
  },
  {
   "cell_type": "code",
   "execution_count": 15,
   "id": "450f943a-56b0-4f2a-ac0c-be94a9f4023b",
   "metadata": {},
   "outputs": [
    {
     "data": {
      "text/plain": [
       "['odd', 'even', 'odd', 'even', 'odd', 'even']"
      ]
     },
     "execution_count": 15,
     "metadata": {},
     "output_type": "execute_result"
    }
   ],
   "source": [
    "n=list(map(lambda x: \"even\" if x%2==0 else \"odd\",l))\n",
    "n"
   ]
  },
  {
   "cell_type": "code",
   "execution_count": 18,
   "id": "537f8629-57ae-4a26-890e-a292afac9d08",
   "metadata": {},
   "outputs": [
    {
     "data": {
      "text/plain": [
       "[1, 3, 5]"
      ]
     },
     "execution_count": 18,
     "metadata": {},
     "output_type": "execute_result"
    }
   ],
   "source": [
    "#filter\n",
    "list(filter(lambda x:x%2,l))"
   ]
  },
  {
   "cell_type": "code",
   "execution_count": 20,
   "id": "59d580d4-4c62-486b-816d-aca832319e3b",
   "metadata": {},
   "outputs": [
    {
     "data": {
      "text/plain": [
       "21"
      ]
     },
     "execution_count": 20,
     "metadata": {},
     "output_type": "execute_result"
    }
   ],
   "source": [
    "#reduce\n",
    "import functools as f\n",
    "f.reduce(lambda x,y:x+y,l)\n",
    "\n"
   ]
  },
  {
   "cell_type": "code",
   "execution_count": 21,
   "id": "4b7a6d93-f585-4324-911d-e0f4c875360b",
   "metadata": {},
   "outputs": [
    {
     "data": {
      "text/plain": [
       "6"
      ]
     },
     "execution_count": 21,
     "metadata": {},
     "output_type": "execute_result"
    }
   ],
   "source": [
    "l1=[1,2,3]\n",
    "f.reduce(lambda x,y:x*y,l1)"
   ]
  },
  {
   "cell_type": "code",
   "execution_count": 2,
   "id": "1ed20442-3dce-41e1-a2e2-0d2f2d2bf6e0",
   "metadata": {},
   "outputs": [
    {
     "data": {
      "text/plain": [
       "[3, 43]"
      ]
     },
     "execution_count": 2,
     "metadata": {},
     "output_type": "execute_result"
    }
   ],
   "source": [
    "#list comprehension\n",
    "l=[12,3,42,43]\n",
    "l2=[x for x in l if x%2]\n",
    "l2"
   ]
  },
  {
   "cell_type": "code",
   "execution_count": 11,
   "id": "c07f448b-b528-469d-8edc-6dd29e10e4de",
   "metadata": {},
   "outputs": [
    {
     "data": {
      "text/plain": [
       "{'n1': 'Ramya'}"
      ]
     },
     "execution_count": 11,
     "metadata": {},
     "output_type": "execute_result"
    }
   ],
   "source": [
    "#dicitonary comprehension\n",
    "d={\"n1\":\"Ramya\",\"n2\":\"madhuram\",\"n3\":\"meera\"}\n",
    "x={key:value for key,value in d.items() if key==\"n1\"}\n",
    "x"
   ]
  },
  {
   "cell_type": "code",
   "execution_count": 13,
   "id": "3e55e1d8-eb90-48bc-ac52-749f7da6a3d1",
   "metadata": {},
   "outputs": [
    {
     "data": {
      "text/plain": [
       "{1: 1, 2: 4, 3: 9}"
      ]
     },
     "execution_count": 13,
     "metadata": {},
     "output_type": "execute_result"
    }
   ],
   "source": [
    "l=[1,2,3]\n",
    "d={item:item**2 for item in l}\n",
    "d"
   ]
  },
  {
   "cell_type": "code",
   "execution_count": 16,
   "id": "a6872334-06d3-4d6b-8dc1-a22382528994",
   "metadata": {},
   "outputs": [
    {
     "data": {
      "text/plain": [
       "{1: 'odd', 2: 'even', 3: 'odd'}"
      ]
     },
     "execution_count": 16,
     "metadata": {},
     "output_type": "execute_result"
    }
   ],
   "source": [
    "d2={item:(\"odd\" if item%2 else \"even\") for item in l  }\n",
    "d2"
   ]
  },
  {
   "cell_type": "code",
   "execution_count": null,
   "id": "616c8950-6ba9-4745-91c1-c6c51059beab",
   "metadata": {},
   "outputs": [],
   "source": []
  }
 ],
 "metadata": {
  "kernelspec": {
   "display_name": "Python 3 (ipykernel)",
   "language": "python",
   "name": "python3"
  },
  "language_info": {
   "codemirror_mode": {
    "name": "ipython",
    "version": 3
   },
   "file_extension": ".py",
   "mimetype": "text/x-python",
   "name": "python",
   "nbconvert_exporter": "python",
   "pygments_lexer": "ipython3",
   "version": "3.12.7"
  }
 },
 "nbformat": 4,
 "nbformat_minor": 5
}
