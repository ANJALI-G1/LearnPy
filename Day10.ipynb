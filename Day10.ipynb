{
 "cells": [
  {
   "cell_type": "markdown",
   "id": "f0684256-e3fb-45e8-9fee-649138d57cf5",
   "metadata": {},
   "source": [
    "# Generator\n",
    "### Python generator are a easy method to write iterator"
   ]
  },
  {
   "cell_type": "code",
   "execution_count": 3,
   "id": "9cc79568-3357-452e-be34-ce7a3041c0d8",
   "metadata": {},
   "outputs": [],
   "source": [
    "def gen_demo(): # there is no return statement in generators\n",
    "    yield \"first statement\"\n",
    "    yield \"second statement\"\n",
    "    yield \"third statement\""
   ]
  },
  {
   "cell_type": "code",
   "execution_count": 6,
   "id": "6cf4d45c-7fbd-465f-913a-98f03f2fe1f5",
   "metadata": {},
   "outputs": [
    {
     "data": {
      "text/plain": [
       "<generator object gen_demo at 0x0000027B16552140>"
      ]
     },
     "execution_count": 6,
     "metadata": {},
     "output_type": "execute_result"
    }
   ],
   "source": [
    "gen=gen_demo()\n",
    "gen"
   ]
  },
  {
   "cell_type": "code",
   "execution_count": 7,
   "id": "76d7d9d8-d7e4-4c05-af93-a87ce2308e48",
   "metadata": {},
   "outputs": [
    {
     "data": {
      "text/plain": [
       "'first statement'"
      ]
     },
     "execution_count": 7,
     "metadata": {},
     "output_type": "execute_result"
    }
   ],
   "source": [
    "next(gen)"
   ]
  },
  {
   "cell_type": "code",
   "execution_count": 8,
   "id": "daa107d2-d456-478f-91df-8c5f26c71f4f",
   "metadata": {},
   "outputs": [
    {
     "name": "stdout",
     "output_type": "stream",
     "text": [
      "second statement\n",
      "third statement\n"
     ]
    }
   ],
   "source": [
    "for i in gen:\n",
    "    print(i)"
   ]
  },
  {
   "cell_type": "markdown",
   "id": "e914d773-b295-4cb5-bb9f-57ac1dc9da2d",
   "metadata": {},
   "source": [
    "# Difference between return and yield"
   ]
  },
  {
   "cell_type": "code",
   "execution_count": 10,
   "id": "93eb370f-5403-4a6b-a037-8632ff2ad0fe",
   "metadata": {},
   "outputs": [],
   "source": [
    "def square(num):\n",
    "    for i in range(1,num+1):\n",
    "        yield i**2\n",
    "        "
   ]
  },
  {
   "cell_type": "code",
   "execution_count": 12,
   "id": "b3089ae1-d749-4245-93ad-1affe742f91d",
   "metadata": {},
   "outputs": [
    {
     "name": "stdout",
     "output_type": "stream",
     "text": [
      "1\n",
      "4\n",
      "9\n"
     ]
    }
   ],
   "source": [
    "gen =square(1000)\n",
    "print(next(gen))\n",
    "print(next(gen))\n",
    "print(next(gen))"
   ]
  },
  {
   "cell_type": "markdown",
   "id": "a528e6d1-7e51-4f74-a0ad-fef8ea2d4b1d",
   "metadata": {},
   "source": [
    "### range function using generator"
   ]
  },
  {
   "cell_type": "code",
   "execution_count": 13,
   "id": "ac3a4a28-fe40-43f2-afae-3f8c947aab7d",
   "metadata": {},
   "outputs": [],
   "source": [
    "def range_func(start,end):\n",
    "    while(start<end):\n",
    "        yield start\n",
    "        start+=1\n"
   ]
  },
  {
   "cell_type": "code",
   "execution_count": 14,
   "id": "ad8e0e56-5eab-491c-82f0-729b8595e7da",
   "metadata": {},
   "outputs": [
    {
     "name": "stdout",
     "output_type": "stream",
     "text": [
      "1\n",
      "2\n",
      "3\n",
      "4\n",
      "5\n",
      "6\n",
      "7\n",
      "8\n",
      "9\n"
     ]
    }
   ],
   "source": [
    "gen =range_func(1,10)\n",
    "for i in gen:\n",
    "    print(i)"
   ]
  },
  {
   "cell_type": "markdown",
   "id": "47c409ab-2c1d-45b8-bb7f-d72485b14f9b",
   "metadata": {},
   "source": [
    "## Generator Expression"
   ]
  },
  {
   "cell_type": "code",
   "execution_count": 15,
   "id": "78be4b2c-a387-4d11-a251-bf526c376e7a",
   "metadata": {},
   "outputs": [
    {
     "name": "stdout",
     "output_type": "stream",
     "text": [
      "1 4 9 16 25 36 49 64 81 100 121 144 169 196 225 256 289 324 361 400 441 484 529 576 625 676 729 784 841 900 961 1024 1089 1156 1225 1296 1369 1444 1521 1600 1681 1764 1849 1936 2025 2116 2209 2304 2401 2500 2601 2704 2809 2916 3025 3136 3249 3364 3481 3600 3721 3844 3969 4096 4225 4356 4489 4624 4761 4900 5041 5184 5329 5476 5625 5776 5929 6084 6241 6400 6561 6724 6889 7056 7225 7396 7569 7744 7921 8100 8281 8464 8649 8836 9025 9216 9409 9604 9801 "
     ]
    }
   ],
   "source": [
    "gen =(i**2 for i in range(1,100))\n",
    "for i in gen:\n",
    "    print(i,end=\" \")"
   ]
  },
  {
   "cell_type": "code",
   "execution_count": null,
   "id": "44544a19-6a5d-4e02-b4e5-e5ac7735cbc6",
   "metadata": {},
   "outputs": [],
   "source": []
  }
 ],
 "metadata": {
  "kernelspec": {
   "display_name": "Python 3 (ipykernel)",
   "language": "python",
   "name": "python3"
  },
  "language_info": {
   "codemirror_mode": {
    "name": "ipython",
    "version": 3
   },
   "file_extension": ".py",
   "mimetype": "text/x-python",
   "name": "python",
   "nbconvert_exporter": "python",
   "pygments_lexer": "ipython3",
   "version": "3.12.7"
  }
 },
 "nbformat": 4,
 "nbformat_minor": 5
}
