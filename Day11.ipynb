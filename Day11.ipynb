{
 "cells": [
  {
   "cell_type": "markdown",
   "id": "2c0ef6f2-4de7-4674-a8cc-043a715c3bc8",
   "metadata": {},
   "source": [
    "# Object oriented programming"
   ]
  },
  {
   "cell_type": "markdown",
   "id": "7f722be2-606c-4c99-b80c-744f1e7976dd",
   "metadata": {},
   "source": [
    "## class\n",
    "### It is a blueprint"
   ]
  },
  {
   "cell_type": "code",
   "execution_count": 1,
   "id": "1a56c937-a6f1-467f-bc93-d1a6f4b17c6b",
   "metadata": {},
   "outputs": [
    {
     "data": {
      "text/plain": [
       "list"
      ]
     },
     "execution_count": 1,
     "metadata": {},
     "output_type": "execute_result"
    }
   ],
   "source": [
    "l=[1,2,3]\n",
    "#here l is object of class list\n",
    "type(l)"
   ]
  },
  {
   "cell_type": "code",
   "execution_count": null,
   "id": "03fd6f50-d288-4e0d-8538-fdd8551d65f7",
   "metadata": {},
   "outputs": [],
   "source": [
    "#class has data and function/behavior\n",
    "#class name should be in PascalCase and its function name should be in snake_case"
   ]
  },
  {
   "cell_type": "code",
   "execution_count": null,
   "id": "adaa2c56-1e9c-4bf2-a68c-0cd0aaa387bd",
   "metadata": {},
   "outputs": [],
   "source": [
    "#Object is an instance of a class"
   ]
  },
  {
   "cell_type": "code",
   "execution_count": null,
   "id": "2274dafc-7c68-4790-b019-cf8b09503624",
   "metadata": {},
   "outputs": [],
   "source": [
    "# methods are special function of a class\n",
    "# len(a) #function\n",
    "# l.append(l) #method"
   ]
  },
  {
   "cell_type": "code",
   "execution_count": 3,
   "id": "d8dd854f-8244-4eef-8d1b-b08910d3d5da",
   "metadata": {},
   "outputs": [],
   "source": [
    "class Atm: \n",
    "    def __init__(self):\n",
    "        self.pin=\"\"\n",
    "        self.balance=0\n",
    "        self.menu()\n",
    "\n",
    "    def menu(self):\n",
    "        user_input=input(\"\"\"\n",
    "                     Hello ,would u like to proceed?\n",
    "                     1.Enter 1 to create pin\n",
    "                     2.Enter 2 to deposite\n",
    "                     \"\"\")\n",
    "        if(user_input==1):\n",
    "            print(\"pin\")\n",
    "        elif(user_input==2):\n",
    "            print(\"deposite\")\n",
    "    def createPin(self):\n",
    "        self.pin=input(\"enter your pin\")\n",
    "        print(\"pin set successfully\")\n",
    "    def deposite(self):\n",
    "        self.balance+=float(input(\"enter amount\"))\n",
    "        print(\"amount deposited successfully\")\n",
    "        "
   ]
  },
  {
   "cell_type": "code",
   "execution_count": null,
   "id": "a9270604-58db-4790-b51e-6b5e9cc95a68",
   "metadata": {},
   "outputs": [],
   "source": [
    "# constructor is a special method of class which is called automatically when object is created"
   ]
  }
 ],
 "metadata": {
  "kernelspec": {
   "display_name": "Python 3 (ipykernel)",
   "language": "python",
   "name": "python3"
  },
  "language_info": {
   "codemirror_mode": {
    "name": "ipython",
    "version": 3
   },
   "file_extension": ".py",
   "mimetype": "text/x-python",
   "name": "python",
   "nbconvert_exporter": "python",
   "pygments_lexer": "ipython3",
   "version": "3.12.7"
  }
 },
 "nbformat": 4,
 "nbformat_minor": 5
}
